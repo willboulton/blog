{
 "cells": [
  {
   "cell_type": "markdown",
   "id": "lesser-perth",
   "metadata": {},
   "source": [
    "# Using Docker\n",
    "\n",
    "These are some notes about docker that I am making as I go along. \n",
    "There are a couple of things I want to do:\n",
    "\n",
    "- Get familiar with Docker and Dockerfiles.\n",
    "- Get familiar with some of the extremely common Docker operations.\n",
    "- Use tensorflow with GPU enabled in a Docker container.\n",
    "- Access this running container from my host machine, and use resources (such as existing python virtual environments) that can connect to the container and make use of tensorflow (if possible). \n",
    "- Understand how Docker actually works.\n",
    "\n",
    "The fourth point may not actually be possible, or not how you are supposed to do it, so as I go on this will probably get updated. \n",
    "\n"
   ]
  }
 ],
 "metadata": {
  "kernelspec": {
   "display_name": "blog",
   "language": "python",
   "name": "blog"
  },
  "language_info": {
   "codemirror_mode": {
    "name": "ipython",
    "version": 3
   },
   "file_extension": ".py",
   "mimetype": "text/x-python",
   "name": "python",
   "nbconvert_exporter": "python",
   "pygments_lexer": "ipython3",
   "version": "3.8.5"
  }
 },
 "nbformat": 4,
 "nbformat_minor": 5
}
