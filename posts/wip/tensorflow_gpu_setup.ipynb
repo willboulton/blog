{
 "cells": [
  {
   "cell_type": "markdown",
   "id": "scientific-murder",
   "metadata": {},
   "source": [
    "# Setting up Tensorflow with Cuda and Nvidia on Ubuntu 20.04\n",
    "\n",
    "#### 23rd March 2021\n",
    "\n",
    "I found this to be a bit of a pain! Once again, not really knowing the first thing about what my computer does or how it works is a bit of a disadvantage. I am just going to go through the steps of how I bumbled through getting this to work (eventually). \n",
    "\n",
    "## My configuration\n",
    "\n",
    "I'm using a Dell Inspiron 5580, and Ubuntu 20.04 LSB. Some specifics: \n",
    "\n",
    "- ```\n",
    "$ uname -a\n",
    "Linux will-Inspiron-5580 5.4.0-67-generic #75-Ubuntu SMP Fri Feb 19 18:03:38 UTC 2021 x86_64 x86_64 x86_64 GNU/Linux\n",
    "```\n",
    "\n",
    "- ```\n",
    "$ sudo lshw -C Display\n",
    "  *-display                 \n",
    "       description: VGA compatible controller\n",
    "       product: UHD Graphics 620 (Whiskey Lake)\n",
    "       vendor: Intel Corporation\n",
    "       physical id: 2\n",
    "       bus info: pci@0000:00:02.0\n",
    "       version: 02\n",
    "       width: 64 bits\n",
    "       clock: 33MHz\n",
    "       capabilities: pciexpress msi pm vga_controller bus_master cap_list rom\n",
    "       configuration: driver=i915 latency=0\n",
    "       resources: irq:145 memory:a4000000-a4ffffff memory:80000000-8fffffff ioport:5000(size=64) memory:c0000-dffff\n",
    "  *-display\n",
    "       description: 3D controller\n",
    "       product: GP108M [GeForce MX150]\n",
    "       vendor: NVIDIA Corporation\n",
    "       physical id: 0\n",
    "       bus info: pci@0000:02:00.0\n",
    "       version: a1\n",
    "       width: 64 bits\n",
    "       clock: 33MHz\n",
    "       capabilities: pm msi pciexpress bus_master cap_list rom\n",
    "       configuration: driver=nvidia latency=0\n",
    "       resources: irq:16 memory:a2000000-a2ffffff memory:90000000-9fffffff memory:a0000000-a1ffffff ioport:4000(size=128) memory:a3000000-a307ffff\n",
    "```"
   ]
  },
  {
   "cell_type": "markdown",
   "id": "joined-unemployment",
   "metadata": {},
   "source": [
    "### Installing the Nvidia Drivers\n",
    "\n",
    "For some reason I ended up with an error like:\n",
    "\n",
    "- [nvidia-smi has failed because it couldn't communicate with the nvidia driver](https://forums.developer.nvidia.com/t/nvidia-smi-has-failed-because-it-couldnt-communicate-with-the-nvidia-driver-ubuntu-16-04/48635)\n",
    "\n",
    "I don't really know what that was all about but what I tried was basically to tear everything down and reinstall it all, which isn't really a great permenant solution because I suspect it will break the next time Ubuntu updates the kernels. Here are some of the things I tried:\n",
    "\n",
    "- Removed everything \n",
    "```\n",
    "$sudo tear everything down, removed cuda, removed cuda from my .profile and .bashrc\n",
    "```\n",
    "\n",
    "- Reinstalled recommended drivers\n",
    "\n",
    "- Blacklisted nouveau driver\n",
    "\n",
    "- Turned my computer off and on again (multiple times)\n",
    "\n",
    "- Installed some new linux headers (which is the step that I think fixed things)\n",
    "\n",
    "```\n",
    "$sudo apt-get whatever\n",
    "```\n",
    "\n",
    "And now it works. What the hell."
   ]
  },
  {
   "cell_type": "markdown",
   "id": "passing-shipping",
   "metadata": {},
   "source": [
    "### Installing Tensorflow and using the GPU\n",
    "\n",
    "In theory this requires getting the correct version of Cuda and using the Nvidia Cuda toolchain. However, Tensorflow suggests that the easiest way to get set up is to use docker, and since I've used docker before for other things, though I am not an expert, that was the simplest option for me. "
   ]
  }
 ],
 "metadata": {
  "kernelspec": {
   "display_name": "blog",
   "language": "python",
   "name": "blog"
  },
  "language_info": {
   "codemirror_mode": {
    "name": "ipython",
    "version": 3
   },
   "file_extension": ".py",
   "mimetype": "text/x-python",
   "name": "python",
   "nbconvert_exporter": "python",
   "pygments_lexer": "ipython3",
   "version": "3.8.5"
  }
 },
 "nbformat": 4,
 "nbformat_minor": 5
}
