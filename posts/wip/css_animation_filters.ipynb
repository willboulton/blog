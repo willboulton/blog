{
 "cells": [
  {
   "cell_type": "code",
   "execution_count": 1,
   "id": "particular-detective",
   "metadata": {},
   "outputs": [],
   "source": [
    "# In this post I am going to try to explain how to do the CSS scrolling colour effect.\n",
    "# If it comes out nicely I will put it in the blog but for now I like the original more. \n",
    "\n",
    "# Pinetools, CSS @keysomethings filter animation, feColorMatrix, contrast, brightness, greyscale, whatever. \n",
    "# also to remember is that I had to move some of the css from the body background to the side panels. "
   ]
  },
  {
   "cell_type": "code",
   "execution_count": null,
   "id": "incoming-passing",
   "metadata": {},
   "outputs": [],
   "source": []
  }
 ],
 "metadata": {
  "kernelspec": {
   "display_name": "blog",
   "language": "python",
   "name": "blog"
  },
  "language_info": {
   "codemirror_mode": {
    "name": "ipython",
    "version": 3
   },
   "file_extension": ".py",
   "mimetype": "text/x-python",
   "name": "python",
   "nbconvert_exporter": "python",
   "pygments_lexer": "ipython3",
   "version": "3.8.5"
  }
 },
 "nbformat": 4,
 "nbformat_minor": 5
}
