{
 "cells": [
  {
   "cell_type": "markdown",
   "id": "extreme-albuquerque",
   "metadata": {},
   "source": [
    "# How to install RDKit from source\n",
    "\n",
    "RDKit is a bit open source chemistry-informatics library, written in C++, but with Python wrappers and good Python support. The annoying thing is that you can't use `pip install rdkit` or anything like that. Instead, the offical way is to use conda. I didn't really want to do that, and I also didn't really want to install Boost (another big C++ library) in the `/usr/whatever` directory of my laptop, only to be used once ever, so I thought I would try to install it from source on my machine (I'm using Ubuntu 20.04). \n",
    "\n",
    "Probably I should have just done it the 'offical' way to save myself a lot of pain but anyway, if you want to do the same as me, here is some probably unhelpful help:\n",
    "\n",
    "### Environment variables\n",
    "\n",
    "```\n",
    "export RDBASE=/home/will/Desktop/projects/ocsr_comp/external/src/rdkit-Release_2020_09_5\n",
    "export BOOST=/home/will/Desktop/projects/ocsr_comp/external/build/boost\n",
    "export LD_LIBRARY_PATH=/usr/local/cuda-10.1/lib64:$RDBASE/lib:$BOOST/lib\n",
    "export PYTHONPATH=$PYTHONPATH:$RDBASE\n",
    "```\n",
    "\n",
    "### Here's some other crap that I had to do\n",
    "\n",
    "To install Boost I used the following magic words:\n",
    "\n",
    "```\n",
    "./bootstrap.sh --prefix=/home/will/Desktop/projects/ocsr_comp/external/build/boost --with-libraries=all\n",
    "```\n",
    "\n",
    "**I also had to edit the file `project-config.jam` at line 21 with this:**\n",
    "\n",
    "```\n",
    "if ! [ python.configured ]\n",
    "{\n",
    "    using python : 3.8 : /usr/include/python3.8 : /usr/lib/python3.8/config-3.8-x86_64-linux-gnu/libpython3.8.so ;\n",
    "}\n",
    "```\n",
    "\n",
    "Then followed by `./b2 install`\n",
    "\n",
    "I also had to install cairo, but I did that through apt-get since it wasn't huge (23MB), rather than trying to do it from source too. \n",
    "\n",
    "### Installing RDKit\n",
    "\n",
    "This was a bit of a pain too, I ran \n",
    "\n",
    "```\n",
    "\n",
    "cmake \\\n",
    "    -DBOOST_ROOT=/home/will/Desktop/projects/ocsr_comp/external/build/boost \\\n",
    "    -D PYTHON_LIBRARY=/usr/lib/python3.8/config-3.8-x86_64-linux-gnu/libpython3.8.so \\\n",
    "    -D PYTHON_INCLUDE_DIR=/usr/include/python3.8 \\\n",
    "    -DRDK_BUILD_INCHI_SUPPORT=ON \\\n",
    "    -DRDK_BUILD_AVALON_SUPPORT=ON \\\n",
    "    -DRDK_BUILD_CAIRO_SUPPORT=ON \\\n",
    "    -DBoost_USE_STATIC_LIBS=OFF ..\n",
    "\n",
    "```\n",
    "followed by \n",
    "\n",
    "```\n",
    "\n",
    "make \n",
    "make install\n",
    "ctest\n",
    "```\n",
    "\n",
    "One of the tests failed but I pasted the message into google and a whole bunch of people have had the same problem, so I think it is actually a bad test case rather than a compilation error. \n",
    "\n",
    "### Making life a bit easier\n",
    "\n",
    "I added a bit of code into my `./venv/bin/activate` script so that I wouldn't always have to do this:\n",
    "\n",
    "```\n",
    "if [ -z \"$RDBASE\" ] ; then\n",
    "    export RDBASE=/home/will/Desktop/projects/ocsr_comp/external/src/rdkit-Release_2020_09_5\n",
    "    export BOOST=/home/will/Desktop/projects/ocsr_comp/external/build/boost\n",
    "    export LD_LIBRARY_PATH=/usr/local/cuda-10.1/lib64:$RDBASE/lib:$BOOST/lib\n",
    "    export PYTHONPATH=$PYTHONPATH:$RDBASE\n",
    "fi\n",
    "```"
   ]
  },
  {
   "cell_type": "markdown",
   "id": "monetary-appraisal",
   "metadata": {},
   "source": [
    "### Compiler Errors and stuff that went wrong\n",
    "\n",
    "The fact that I don't really know what I am doing at all with C++, make, cmake, bash, Linux, and computers in general made this a lot harder than it should have been. Here are some of the resources that I used:\n",
    "\n",
    "- [rkdit instructions](https://www.rdkit.org/docs/Install.html])\n",
    "- [boost instructions](https://www.boost.org/doc/libs/1_75_0/more/getting_started/unix-variants.html)\n",
    "- Some general stackoverflow faffing\n",
    "\n",
    "In retrospect there wasn't anything particularly hard to do, but it still took me absolutely ages. Here is some stuff I noticed:\n",
    "\n",
    "I got a lot of errors when trying to build rdkit about 'could not find Boost', or 'could not find Boost (python)'. Building Boost when pointing at the correct python headers required tracking down where the compiled python libraries are, which led to changing the project-config.jam file for Boost (whatever the hell that is). \n",
    "\n",
    "I ended up editing this into the file at the appropriate place (courtesy of another stackoverflow post):\n",
    "\n",
    "```\n",
    "using python : 3.8 : /usr/include/python3.8 : /usr/lib/python3.8/config-3.8-x86_64-linux-gnu/libpython3.8.so\n",
    "```\n",
    "\n",
    "These use the full path to my python include directory and the full path to the python static library ([here's](https://stackoverflow.com/questions/12293530/what-is-the-difference-between-so-and-a-files/12293619) a description of what this is). \n",
    "\n",
    "The LD_LIBRARY_PATH really needs the $BOOST/lib in it; also it is super important to make sure your environment variables are set correctly. Both Boost and RDKit take quite a long time to compile. \n",
    "\n",
    "All of the CMake options are also kind of a faff... all of them are pretty necessary and it isn't super obvious in the instructions (though the advice is all there if you read carefully). "
   ]
  },
  {
   "cell_type": "markdown",
   "id": "acquired-tiger",
   "metadata": {},
   "source": [
    "### Does it work?\n",
    "\n",
    "After all that pain it is worth trying to see if the thing actually works or not:"
   ]
  },
  {
   "cell_type": "code",
   "execution_count": 4,
   "id": "warming-hearing",
   "metadata": {},
   "outputs": [
    {
     "data": {
      "image/png": "[encoded data removed]",
      "text/plain": [
       "<rdkit.Chem.rdchem.Mol at 0x7fe513a40da0>"
      ]
     },
     "execution_count": 4,
     "metadata": {},
     "output_type": "execute_result"
    }
   ],
   "source": [
    "from rdkit import Chem\n",
    "\n",
    "mol = Chem.MolFromSmiles('c1ccccc1')\n",
    "mol"
   ]
  },
  {
   "cell_type": "markdown",
   "id": "worth-packing",
   "metadata": {},
   "source": [
    "**Finally!**\n",
    "This works (even in a different virtual environment) as long as RDBASE, LD_LIBRARY_PATH, and PYTHONPATH (and BOOST) are all set as environment variables. "
   ]
  }
 ],
 "metadata": {
  "kernelspec": {
   "display_name": "blog",
   "language": "python",
   "name": "blog"
  },
  "language_info": {
   "codemirror_mode": {
    "name": "ipython",
    "version": 3
   },
   "file_extension": ".py",
   "mimetype": "text/x-python",
   "name": "python",
   "nbconvert_exporter": "python",
   "pygments_lexer": "ipython3",
   "version": "3.8.5"
  }
 },
 "nbformat": 4,
 "nbformat_minor": 5
}
