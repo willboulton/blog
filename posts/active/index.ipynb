{
 "cells": [
  {
   "cell_type": "markdown",
   "metadata": {},
   "source": [
    "# [How I made this site](./how_I_made_this_site.html)\n",
    "#### Basically with Jupyter notebooks custom templates"
   ]
  },
  {
   "cell_type": "markdown",
   "metadata": {},
   "source": [
    "# [Systems Biology Lecture 1](./systems_bio_1.html)\n",
    "#### Lecture 1 on an MIT OpenCourseWare course on systems biology - will update as I go along"
   ]
  },
  {
   "cell_type": "markdown",
   "metadata": {},
   "source": [
    "# [Coalgebra 2](./coalgebra_lecture_2.html)\n",
    "#### More coalgebra"
   ]
  },
  {
   "cell_type": "markdown",
   "metadata": {},
   "source": [
    "# [Coalgebra 1](./coalgebra_lecture_1.html)\n",
    "#### An intro to coalgebra, and a bit of an introduction into a paper on universal measuring coalgebra"
   ]
  },
  {
   "cell_type": "markdown",
   "metadata": {},
   "source": [
    "# [The Secret Santa Problem](secret_santa.html)\n",
    "#### A small generalisation of the Bernoulli letter problem that I was asked about in the office"
   ]
  }
 ],
 "metadata": {
  "kernelspec": {
   "display_name": "blog",
   "language": "python",
   "name": "blog"
  },
  "language_info": {
   "codemirror_mode": {
    "name": "ipython",
    "version": 3
   },
   "file_extension": ".py",
   "mimetype": "text/x-python",
   "name": "python",
   "nbconvert_exporter": "python",
   "pygments_lexer": "ipython3",
   "version": "3.7.7"
  }
 },
 "nbformat": 4,
 "nbformat_minor": 2
}
