{
 "cells": [
  {
   "cell_type": "markdown",
   "metadata": {},
   "source": [
    "# [Systems Biology Lecture 7](./html/systems_bio_7.html)\n",
    "#### Single Molecule Dynamics In Vivo - Introduction to Stochastic Gene Expression"
   ]
  },
  {
   "cell_type": "markdown",
   "metadata": {},
   "source": [
    "# [Systems Biology Lecture 6](./html/systems_bio_6.html)\n",
    "#### The feed-forward-loop network motif"
   ]
  },
  {
   "cell_type": "markdown",
   "metadata": {},
   "source": [
    "# [Systems Biology Lecture 5](./html/systems_bio_5.html)\n",
    "#### Finishing off last lecture and Graph Properties of Transcription Networks"
   ]
  },
  {
   "cell_type": "markdown",
   "metadata": {},
   "source": [
    "# [Systems Biology Lecture 4](./html/systems_bio_4.html)\n",
    "#### The Repressilator"
   ]
  },
  {
   "cell_type": "markdown",
   "metadata": {},
   "source": [
    "# [Systems Biology Lecture 3](./html/systems_bio_3.html)\n",
    "#### Synthetic Biology and Stability Analysis in the Toggle Switch"
   ]
  },
  {
   "cell_type": "markdown",
   "metadata": {},
   "source": [
    "# [Systems Biology Lecture 2](./html/systems_bio_2.html)\n",
    "#### Autoregulation, feedback, bistability, and network motifs"
   ]
  },
  {
   "cell_type": "markdown",
   "metadata": {},
   "source": [
    "# [How I made this site](./html/how_I_made_this_site.html)\n",
    "#### Basically with Jupyter notebooks custom templates"
   ]
  },
  {
   "cell_type": "markdown",
   "metadata": {},
   "source": [
    "# [Systems Biology Lecture 1](./html/systems_bio_1.html)\n",
    "#### Lecture 1 on an MIT OpenCourseWare course on systems biology - will update as I go along"
   ]
  },
  {
   "cell_type": "markdown",
   "metadata": {},
   "source": [
    "# [Coalgebra 2](./html/coalgebra_lecture_2.html)\n",
    "#### More coalgebra"
   ]
  },
  {
   "cell_type": "markdown",
   "metadata": {},
   "source": [
    "# [Systems Biology Lecture 0](./html/systems_bio_0.html)\n",
    "#### The introductory lecture of an MIT OpenCourseWare course on systems biology"
   ]
  },
  {
   "cell_type": "markdown",
   "metadata": {},
   "source": [
    "# [Coalgebra 1](./html/coalgebra_lecture_1.html)\n",
    "#### An intro to coalgebra, and a bit of an introduction into a paper on universal measuring coalgebra"
   ]
  },
  {
   "cell_type": "markdown",
   "metadata": {},
   "source": [
    "# [The Secret Santa Problem](./html/secret_santa.html)\n",
    "#### A small generalisation of the Bernoulli letter problem that I was asked about in the office"
   ]
  }
 ],
 "metadata": {
  "kernelspec": {
   "display_name": "blog",
   "language": "python",
   "name": "blog"
  },
  "language_info": {
   "codemirror_mode": {
    "name": "ipython",
    "version": 3
   },
   "file_extension": ".py",
   "mimetype": "text/x-python",
   "name": "python",
   "nbconvert_exporter": "python",
   "pygments_lexer": "ipython3",
   "version": "3.8.10"
  }
 },
 "nbformat": 4,
 "nbformat_minor": 2
}
