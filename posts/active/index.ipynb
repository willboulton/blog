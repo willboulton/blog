{
 "cells": [
  {
   "cell_type": "markdown",
   "source": [
    "# [Systems Biology Lecture 7](/html/systems_bio_7.html)\n",
    "#### Single Molecule Dynamics In Vivo - Introduction to Stochastic Gene Expression"
   ],
   "metadata": {}
  },
  {
   "cell_type": "markdown",
   "source": [
    "# [Systems Biology Lecture 6](/html/systems_bio_6.html)\n",
    "#### The feed-forward-loop network motif"
   ],
   "metadata": {}
  },
  {
   "cell_type": "markdown",
   "source": [
    "# [Systems Biology Lecture 5](/html/systems_bio_5.html)\n",
    "#### Finishing off last lecture and Graph Properties of Transcription Networks"
   ],
   "metadata": {}
  },
  {
   "cell_type": "markdown",
   "source": [
    "# [Systems Biology Lecture 4](/html/systems_bio_4.html)\n",
    "#### The Repressilator"
   ],
   "metadata": {}
  },
  {
   "cell_type": "markdown",
   "source": [
    "# [Systems Biology Lecture 3](/html/systems_bio_3.html)\n",
    "#### Synthetic Biology and Stability Analysis in the Toggle Switch"
   ],
   "metadata": {}
  },
  {
   "cell_type": "markdown",
   "source": [
    "# [Systems Biology Lecture 2](/html/systems_bio_2.html)\n",
    "#### Autoregulation, feedback, bistability, and network motifs"
   ],
   "metadata": {}
  },
  {
   "cell_type": "markdown",
   "source": [
    "# [How I made this site](/html/how_I_made_this_site.html)\n",
    "#### Basically with Jupyter notebooks custom templates"
   ],
   "metadata": {}
  },
  {
   "cell_type": "markdown",
   "source": [
    "# [Systems Biology Lecture 1](/html/systems_bio_1.html)\n",
    "#### Lecture 1 on an MIT OpenCourseWare course on systems biology - will update as I go along"
   ],
   "metadata": {}
  },
  {
   "cell_type": "markdown",
   "source": [
    "# [Coalgebra 2](/html/coalgebra_lecture_2.html)\n",
    "#### More coalgebra"
   ],
   "metadata": {}
  },
  {
   "cell_type": "markdown",
   "source": [
    "# [Systems Biology Lecture 0](/html/systems_bio_0.html)\n",
    "#### The introductory lecture of an MIT OpenCourseWare course on systems biology"
   ],
   "metadata": {}
  },
  {
   "cell_type": "markdown",
   "source": [
    "# [Coalgebra 1](/html/coalgebra_lecture_1.html)\n",
    "#### An intro to coalgebra, and a bit of an introduction into a paper on universal measuring coalgebra"
   ],
   "metadata": {}
  },
  {
   "cell_type": "markdown",
   "source": [
    "# [The Secret Santa Problem](/html/secret_santa.html)\n",
    "#### A small generalisation of the Bernoulli letter problem that I was asked about in the office"
   ],
   "metadata": {}
  }
 ],
 "metadata": {
  "kernelspec": {
   "name": "python3",
   "display_name": "Python 3.8.10 64-bit ('venv': venv)"
  },
  "language_info": {
   "codemirror_mode": {
    "name": "ipython",
    "version": 3
   },
   "file_extension": ".py",
   "mimetype": "text/x-python",
   "name": "python",
   "nbconvert_exporter": "python",
   "pygments_lexer": "ipython3",
   "version": "3.8.10"
  },
  "interpreter": {
   "hash": "b339134988667e4d31265747ecca0fb49c387f819cafc6b3240143509dd09d91"
  }
 },
 "nbformat": 4,
 "nbformat_minor": 2
}