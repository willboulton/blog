{
 "cells": [
  {
   "cell_type": "markdown",
   "metadata": {},
   "source": [
    "# How I Made this Site\n",
    "\n",
    "This site looks a lot like a Jupyter notebook because it is a Jupyter notebook. It is a static site, and all I've done is run this command:\n",
    "\n",
    "```bash\n",
    "jupyter nbconvert --to html <blog entry> --output-dir <static folder> --template <custom template>\n",
    "```\n",
    "\n",
    "Then I've added some custom css and a header. \n",
    "\n",
    "The annoying bit is this custom template, but you can mainly just copy the existing jinja2 template that Jupyter uses. Also don't ask about the 13000+ horrifying lines of Jupyter notebook css - I hate it, but am not sure which bits can be done away with. \n",
    "\n",
    "There's also an sqlite3 database to keep track of some of the posts and list them. \n",
    "\n",
    "There are plenty of other ways to make a site like this (probably better ways); I've decided to do it this way because a lot of people are pretty familiar with Jupyter notebooks, and it also means that I get a WYSIWYG interface when I'm writing a post. I think if you are very keen you can make a Jupyter book, or turn notebooks into pages with Voila or something. I haven't bothered with this - mainly because if in the future I want to do a one off post in a completely different way for some reason, I won't then be tied in to having to figure out how to do that within the framework of one of those tools. Also basically everywhere lets you host a static website for free which is great.\n",
    "\n",
    "The code is on github if you are keen to do the same yourself - it is extremely easy. "
   ]
  }
 ],
 "metadata": {
  "kernelspec": {
   "display_name": "blog",
   "language": "python",
   "name": "blog"
  },
  "language_info": {
   "codemirror_mode": {
    "name": "ipython",
    "version": 3
   },
   "file_extension": ".py",
   "mimetype": "text/x-python",
   "name": "python",
   "nbconvert_exporter": "python",
   "pygments_lexer": "ipython3",
   "version": "3.8.10"
  }
 },
 "nbformat": 4,
 "nbformat_minor": 2
}
