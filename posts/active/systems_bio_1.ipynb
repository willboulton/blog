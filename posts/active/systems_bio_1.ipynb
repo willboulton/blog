{
 "cells": [
  {
   "cell_type": "markdown",
   "metadata": {},
   "source": [
    "# Systems Biology Lecture 1"
   ]
  },
  {
   "cell_type": "markdown",
   "metadata": {},
   "source": [
    "### Topics for this lecture\n",
    "\n",
    "- Michaelis-Menten kinetics\n",
    "- Activator-inhibitor curve\n",
    "- Input function\n",
    "- Coorperativity\n",
    "- Ultrasensitivity (molecular titration) work done by Nick Buchler\n",
    "- Response time ~ cell generation time"
   ]
  },
  {
   "cell_type": "markdown",
   "metadata": {},
   "source": [
    "### Michaelis-Mentens Equation\n",
    "\n",
    "Chemists will use [X] for concentration of X. This is very boring so we'll skip this and you can tell from context whether X is refering to X itself or the conc. of X. \n",
    "\n",
    "A prototypical chemical equation for an enzyme catalysing the conversation of a substrate into a product is given by:\n",
    "\n",
    "$$ E + S \\leftrightharpoons ES \\rightarrow E + P $$\n",
    "\n",
    "Here, these reactions have forward and backward equilibrium constants given by:\n",
    "\n",
    "- $ E + S \\rightarrow ES $ with rate constant $k_f$\n",
    "\n",
    "\n",
    "- $ ES \\rightarrow E + S $ with rate constant $k_r$\n",
    "\n",
    "\n",
    "- $ ES \\rightarrow E + P $ with rate constant $k_{cat}$\n",
    "\n",
    "This means we can set up a bunch of differential equations (using the law of mass action):\n",
    "\n",
    "1. $ \\frac{d(ES)}{dt} = k_f \\times E \\times S - (k_r + k_{cat}) \\times (ES)$\n",
    "\n",
    "\n",
    "\n",
    "2. $ \\frac{dE}{dt} = -k_f \\times E \\times S + (k_r + k_{cat}) \\times (ES)$\n",
    "\n",
    "\n",
    "\n",
    "3. $ \\frac{dS}{dt} = -k_f \\times E \\times S + k_r \\times (ES)$\n",
    "\n",
    "\n",
    "\n",
    "4. $ \\frac{dP}{dt} = k_{cat} \\times (ES)$\n",
    "\n",
    "Here, (ES) stands for the (concentration of) enzyme-substrate complex - not the product E times S. Don't get confused by this!"
   ]
  },
  {
   "cell_type": "markdown",
   "metadata": {},
   "source": [
    "We will also define another constant:\n",
    "\n",
    "$$K_d = k_r/k_f$$\n",
    "\n",
    "called the *dissociation constant* which has dimensions in units of \\[Conc\\] (as you can see from dimensional analysis of the above equations). \n",
    "\n",
    "- $\\text{forward rate} = k_f[E][S]$\n",
    "\n",
    "\n",
    "- $\\text{reverse rate} = k_r[ES]$\n",
    "\n",
    "This constant determines how much the reaction is going in the reverse direction compared to the forwards direction. "
   ]
  },
  {
   "cell_type": "markdown",
   "metadata": {},
   "source": [
    "#### First thoughts about these equations\n",
    "\n",
    "1. If you add equations 1 and 2 together, you get that $d[E]_{T}/dt = 0$ i.e. $[E]_T$ is constant, which is kind of obvious; enzyme does not get used up in a reaction so the total amount (in either the bound or unbound state) must be conserved. The subscript T stands for \"total\", and means the total concentration of that substance, both in the bound and unbound state. So for example $[S]_T = [S] + [ES]$. \n",
    "\n",
    "\n",
    "2. The equations are nonlinear, so it would seem hard to get a closed form solution in terms of standard functions. In fact, there *is* a closed form solution in terms of the Lambert W-function, but I will leave this for later! It is a surprising fact. "
   ]
  },
  {
   "cell_type": "markdown",
   "metadata": {},
   "source": [
    "To get some intuition, we are going to do some limits, and plot some graphs. We're also going to ignore the product-forming reaction, which means setting $k_{cat} = 0$. \n",
    "\n",
    "Firstly, we want to define a fraction $ f_B = \\frac{ES}{E+ES}$, the fraction of the enzyme which is bound. "
   ]
  },
  {
   "cell_type": "markdown",
   "metadata": {},
   "source": [
    "#### Four limit practice questions\n",
    "\n",
    "1. $[S]_T \\rightarrow 0$, $f_B \\rightarrow 0$\n",
    "Intuitively, when there is no substrate, none of the enzyme will be bound. \n",
    "\n",
    "\n",
    "2. $[S]_T \\rightarrow \\infty$, $f_B \\rightarrow 1$\n",
    "When you have loads and loads of substrate, all the enzyme will be bound. \n",
    "\n",
    "\n",
    "\n",
    "3. $[E]_T \\rightarrow 0$, $f_B \\rightarrow \\frac{1}{1 + K_d/S}$\n",
    "This is the hardest one. Imagine having a single molecule of the enzyme. Note that this is going to be proportional to the We will prove this mathematically by using L'Hopital's rule, but for now just note that the dependence on $K_d/S$ needs to be true by dimensional analysis. \n",
    "\n",
    "\n",
    "4. $[E]_T \\rightarrow \\infty$, $f_B \\rightarrow 0$\n",
    "When you have loads of enzyme, way more than substrate, barely any of it will be bound, even if all the substrate is bound. "
   ]
  },
  {
   "cell_type": "markdown",
   "metadata": {},
   "source": [
    "#### REDO THIS BECAUSE IT IS WRONG!\n",
    "\n",
    "A note on part 3. We are going to prove this rigourously by looking at the differential equations and then using L'Hopital's rule. However, it is also instructive to do this in another way, which may be less rigourous, but is also much faster and more broadly applicable; dimensional analysis. Imagine we only have 1 molecule of enzyme in an otherwise plentiful supply of substrate, and we want to know $f_B$, which essentially means the proportion of the time that our molecule is in the bound state. Collisions are more likely to occur when the concentration of $S$ is higher, in fact we can be more precise and say that this will be proportional to $\\sqrt{S}$. (Why? Because...) So $f_B \\propto \\sqrt{S}$. Also note that it will certainly depend on the forewards and backwards rates, increasing with the forewards rate since that drives the binding of enzyme, and decreasing with the backwards rate. So since $K_d$ is (one over) the ratio of these quantities, and to get the dimensions to work out, we can guess that $f_B \\propto \\sqrt{S/K_d}$. There might be a constant of proportionality, but let's just guess that this is $1$. \n",
    "\n",
    "\n",
    "To prove the rigourous way, let's use L'Hopital's rule, which in this case says that:\n",
    "\n",
    "$$\\lim_{E\\to 0}f_B = \\frac{\\lim_{E\\to 0}ES}{\\lim_{E\\to 0}ES + E} = \\frac{\\lim_{E\\to 0}d(ES)/dE}{\\lim_{E\\to 0}d(ES)/dE + dE/dE} $$\n",
    "\n",
    "\n",
    "To evaluate $\\frac{d(ES)}{dE}$, we can use the chain rule, \"dividing\" both sides by $dt$, and then using equations 1 and 2 to get $\\frac{k_f \\times E \\times S}{k_r \\times (ES)}$. We can see that our limit $L$ must satisfy the following equation:\n",
    "\n",
    "$$ L = \\lim_{E \\to 0}\\frac{d(ES)}{dE} = \\frac{k_f \\times E \\times S}{k_r \\times (ES)} = \\frac{S}{K_d \\times L}$$. \n",
    "\n",
    "From this, we get that $L = \\sqrt{S/K_d}$, and therefore that \n",
    "\n",
    "$$f_B = \\frac{\\sqrt{S/K_d}}{1 + \\sqrt{S/K_d}} = \\frac{1}{1 + \\sqrt{K_d/S}}$$"
   ]
  },
  {
   "cell_type": "markdown",
   "metadata": {},
   "source": [
    "#### Some maths to solve part 3\n",
    "\n",
    "Let's have a look at this question in a bit more detail. From equation 1, $d(ES)/dt = 0$ when $$"
   ]
  },
  {
   "cell_type": "markdown",
   "metadata": {},
   "source": [
    "#### Problems with Michaelis-Mentens \n",
    "\n",
    "1. The equation $ES \\rightarrow E + P$ *always* has a reverse rate - even if very small. In MM kinetics, the reverse rate is exactly $0$, which is thermodynamically not actually possible. $P$ can *always* turn back into $S$, even if only a little bit. \n",
    "\n",
    "\n",
    "2. Note - the enzyme will not change the equilibrium ratio of $S$ to $P$, it will just speed up the reaction by lowering the activation energy ($\\Delta G$). No reaction will have a 100% forwards reaction! This is just saying point 1 again, but it is important to note. \n",
    "\n",
    "3. So in theory MM may not be applicable in scenarios where the equilibrium is not very far to the right. \n",
    "\n",
    "#### Velocity\n",
    "\n",
    "$$v = \\frac{S}{S + K_M}V_{max}$$. \n",
    "\n",
    "Here we have a new quantity, the *Michaelis constant*, $K_M$, which is defined as $\\frac{k_{cat} + k_r}{k_f}$, which is basically just the dissociation constant from earlier, but now for a non-zero $k_{cat}$. \n",
    "\n",
    "\n",
    "\n",
    "We also have a new quantity, $V_{max}$, which is defined as the rate of product formation at saturation of substrate, i.e. $$V_{max} = \\max_{S}\\frac{dP}{dt} = \\lim_{S \\to \\infty}\\frac{dP}{dt}$$. \n",
    "\n",
    "\n",
    "### Simple Models of Gene Expression\n",
    "\n",
    "#### First model of activation\n",
    "\n",
    "$X \\rightarrow Y$\n",
    "\n",
    "$X$ is a gene which produces some protein $X^*$, which binds near to the promoter of $Y$ to activate it. Given some exogenous signal, $X$ will be activated, possibly within the timescale of a second, and $X^*$ may start being produced to an equilibrium amount within the timescale of a few seconds. A lot of the time we might just forget about $X^*$, since it gets produced quickly, and we're not really interested in it per se; we only really care about the effect of the activation levels of $X$ and expression levels of $Y$, and may equivocate $X$ and $X^*$, and $Y$ and $Y^*$. \n",
    "\n",
    "Let's make a model for expression levels of $Y$ (or $Y^*$) as $\\dot{Y} = f(X^*) - \\alpha Y$. The rate $\\alpha = \\alpha_{deg} + \\alpha_{dil}$, i.e. this damping factor comes from degredation, and also cell growth, which acts like dilution. If we treat the function $f$ as just a constant, $\\beta$, then the solution to this equation is just exponential plateauing to a non-zero value. \n",
    "\n",
    "$$\\frac{d(Ye^{\\alpha t})}{dt} = \\beta e^{\\alpha t}$$\n",
    "\n",
    "$$Y = \\frac{\\beta}{\\alpha}  + Ce^{-\\alpha t}$$\n",
    "\n",
    "#### Dependance of $Y$ on $X$\n",
    "\n"
   ]
  },
  {
   "cell_type": "markdown",
   "metadata": {},
   "source": [
    "#### Cooperative Binding\n",
    "\n",
    "In our last model, we get $Y$ level depending on $X$, very much like Michaelis Mentens velocity. Can we make this a bit faster?\n",
    "\n",
    "We'd like something a bit more like $f(X) = \\frac{X^n}{K^n + X^n}$, which gets faster as $X$ increases. We can get this through cooperative binding. There's also an alternative, which produces ultrasensitivity without cooperativity...\n",
    "\n",
    "\n",
    "$XW \\leftrightharpoons X + W \\rightarrow Y$\n",
    "\n",
    "\n",
    "For some values of $K_W$, $K_d$, $W_T$, we can get it so that $Y$ starts being expressed only once $X$ reaches some threshold value $W_T$. \n",
    "\n",
    "This is called *molecular titration*, and we'll have a look at it in the start of the next lecture. "
   ]
  },
  {
   "cell_type": "code",
   "execution_count": 2,
   "metadata": {},
   "outputs": [],
   "source": [
    "import matplotlib.pyplot as plt\n",
    "import numpy as np\n",
    "import ipywidgets"
   ]
  },
  {
   "cell_type": "code",
   "execution_count": null,
   "metadata": {},
   "outputs": [],
   "source": []
  }
 ],
 "metadata": {
  "kernelspec": {
   "display_name": "Python 3",
   "language": "python",
   "name": "python3"
  },
  "language_info": {
   "codemirror_mode": {
    "name": "ipython",
    "version": 3
   },
   "file_extension": ".py",
   "mimetype": "text/x-python",
   "name": "python",
   "nbconvert_exporter": "python",
   "pygments_lexer": "ipython3",
   "version": "3.8.10"
  }
 },
 "nbformat": 4,
 "nbformat_minor": 2
}
