{
 "cells": [
  {
   "cell_type": "markdown",
   "id": "rational-roots",
   "metadata": {},
   "source": [
    "# Systems Biology Lecture 7\n",
    "\n",
    "## Single Molecule Dynamics In Vivo - Introduction to Stochastic Gene Expression\n",
    "\n",
    "These papers are very impressive, and Jeff really loves them. He says that he did not think that it would be possible to do this kind of experiment (\"mind blowing stuff\"). \n",
    "\n",
    "### Challenges\n",
    "\n",
    "- Lasering a cell; without killing the cell\n",
    "- Many molecules - how to separate?\n",
    "- Diffusion is fast\n",
    "- Signal to noise - noise is autofluorenscence from the cell. The signal is photons from the single gfp-like molecule. Many thousands of photons are collected per second; $10^4 \\text{photons}/s \\times 10-100 s$. \n",
    "- Quantum efficiency; fraction of photons detected, this is actually approximately 1. So number of photons is not the problem, the noise is the big problem. \n",
    "\n",
    "### A Sense of Scale\n",
    "\n",
    "- Typical protein (e.g. gfp): 3 nm\n",
    "- Size of a fluorescent spot: 300 nm \n",
    "This is what's known as a diffraction limited spot. If you are imagining something with wavelength of order $\\lambda$, using $\\lambda_{in} = 514nm$, you get out $\\lambda_{em} > 514nm$. It will be very hard to tell if you have two proteins next to each other from the size of the spot; the intensity of light will go up but this is very hard to determine. \n",
    "- Where is the protein in the spot? In principle we can determine the position of the protein in the spot, and we are measuring multiple phtons, so we can determine position of the spot with an uncertainty of $\\sigma / \\sqrt{N}$. Here $N$ is the number of photons, which we were saying was on the order of $10^4$. We end up with approx. 1nm resolution. \n",
    "\n",
    "### Superesolution\n",
    "\n",
    "- Fluorescent Imagining with 1 Nanometre Accuracy (FIONA)\n",
    "- SHREK\n",
    "- STORM (Stochastic Reconstruction blah blah...)\n",
    "- PALM\n",
    "\n",
    "Just to get an idea of what the microscopy people are up to. \n",
    "\n",
    "### Diffusion\n",
    "\n",
    "- protein anchored to membrane - reduces diffusion. We can see this is necessary from the following calculation:\n",
    "- Image collected (exposure time) $\\Delta T$ was 0.1\n",
    "- How far will the protein diffuse in that time? $D = \\frac{kT}{\\gamma}$, where $F = \\gamma v$ is to do with viscocity and is down to an effect of small objects in viscous liquids (low Reynold's number). $k$ has to do with the temperature. For a protein sized object in the cell we might get something like $D=10\\mu m ^2/s$, and we end up that in 0.1s exposure time we might get a 1 micron movement of the protein due to diffusion - this is roughly the size of the cell in question. \n",
    "- They did this anchoring by fusing their gfp-like protein to a membrane protein (TSR protein). \n",
    "\n",
    "\n",
    "How do we know we are looking at a single molecule? Because the emitted intensity drops off suddenly as a function of time (bleach event) when the laser light is shone on it. If instead, it were a collection of molecules, we would see a slower exponential decay as the fluorescence 'turns off' on each molecule after a random time, this should drop off like the characteristic timescale for the bleach event ~250ms. The sudden drop-off bleaching corresponds to a discrete jump in energy level. Supporting evidence: the intensity of the fluorescence matched what they measured on a slide. \n",
    "\n",
    "**Draw a graph!**\n",
    "\n",
    "In the experiment, every 3 minutes they illuminated with a laser, with a pulse duty cycle of 1.2 seconds. At the start of this duty cycle they collected fluorescence data for 0.1s exposure time. The extra 1.1 seconds is to bleach. Question: what fraction of the molecules survive the bleaching step? It should be almost 1%, since we are waiting almost 5 times the characteristic timescale for bleaching and $e^{-5}$ is around 1%. \n",
    "\n",
    "\n",
    "\n",
    "### Conclusions\n",
    "\n",
    "- They talk about \"bursts\". What is a \"burst\"?\n",
    "A burst is a group of proteins made in successive sections of their 3 minute time windows. \n",
    "\n",
    "**plot a graph!**\n",
    "\n",
    "- How many proteins are made in each gene-expression \"burst\"?\n",
    "Distributed Poisson ($\\lambda = 1.2$). \n",
    "\n",
    "- To find out how much mRNA there was they used rt-PCR; per cell the number of mRNA was the number of mRNA per burst multiplied by the number of bursts per minute times by the lifetime of the mRNA. "
   ]
  }
 ],
 "metadata": {
  "kernelspec": {
   "display_name": "blog",
   "language": "python",
   "name": "blog"
  },
  "language_info": {
   "codemirror_mode": {
    "name": "ipython",
    "version": 3
   },
   "file_extension": ".py",
   "mimetype": "text/x-python",
   "name": "python",
   "nbconvert_exporter": "python",
   "pygments_lexer": "ipython3",
   "version": "3.8.10"
  }
 },
 "nbformat": 4,
 "nbformat_minor": 5
}
