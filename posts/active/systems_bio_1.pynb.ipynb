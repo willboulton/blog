{
 "cells": [
  {
   "cell_type": "markdown",
   "metadata": {},
   "source": [
    "## Systems Biology Lecture 1"
   ]
  },
  {
   "cell_type": "markdown",
   "metadata": {},
   "source": [
    "### Topics\n",
    "\n",
    "- Michaelis-Menten kinetics\n",
    "- Activator-inhibitor curve\n",
    "- Input function\n",
    "- Coorperativity"
   ]
  },
  {
   "cell_type": "markdown",
   "metadata": {},
   "source": [
    "### Michaelis-Mentens Equation\n",
    "\n",
    "Chemists will use [X] for concentration of X. This is very boring so we'll skip this and you can tell from context whether X is refering to X itself or the conc. of X. \n",
    "\n",
    "A prototypical chemical equation for an enzyme catalysing the conversation of a substrate into a product is given by:\n",
    "\n",
    "$$ E + S \\leftrightharpoons ES \\leftrightharpoons E + P $$\n",
    "\n",
    "Here, these reactions have forward and backward equilibrium constants given by:\n",
    "\n",
    "- $ E + S \\rightarrow ES $ with rate constant $k_f$\n",
    "- $ ES \\rightarrow E + S $ with rate constant $k_r$\n",
    "- $ ES \\rightarrow E + P $ with rate constant $k_{cat}$\n",
    "\n",
    "This means we can set up a bunch of differential equations:\n",
    "\n",
    "- $ \\frac{d(ES)}{dt} = k_f \\times E \\times S $\n",
    "\n",
    "- $ \\frac{dE}{dt} = k_r \\times (ES) $\n",
    "\n",
    "- $ \\frac{dS}{dt} = (k_r + k_{cat}) \\times (ES) $\n",
    "\n",
    "- $ \\frac{dP}{dt} = k_{cat} \\times (ES) $\n",
    "\n",
    "Here, (ES) stands for the (concentration of) enzyme-substrate complex - not the product E times S. "
   ]
  },
  {
   "cell_type": "code",
   "execution_count": null,
   "metadata": {},
   "outputs": [],
   "source": []
  }
 ],
 "metadata": {
  "kernelspec": {
   "display_name": "Python 3",
   "language": "python",
   "name": "python3"
  },
  "language_info": {
   "codemirror_mode": {
    "name": "ipython",
    "version": 3
   },
   "file_extension": ".py",
   "mimetype": "text/x-python",
   "name": "python",
   "nbconvert_exporter": "python",
   "pygments_lexer": "ipython3",
   "version": "3.7.7"
  }
 },
 "nbformat": 4,
 "nbformat_minor": 2
}
