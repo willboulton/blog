{
 "cells": [
  {
   "cell_type": "markdown",
   "metadata": {},
   "source": [
    "## **Coalgebra Lecture 1**\n",
    "\n",
    "### **Who are these notes for?**\n",
    "\n",
    "This is a set of notes about coalgebra, intended mainly for mathematicians, and mainly those that might be working with coalgebras. Therefore this set of notes has a pretty small audience. However, there are also examples of coalgebras used in Computer Science, and I'll try to add a few of these where relevant. A lot of examples here rely on category theory. I am not great at category theory, so if you spot any mistakes then please let me know. In the first few notes I've tried not to make category theory a prerequisite for understanding coalgebra, but in the later sections about measuring coalgebras, there is a lot reliance on ideas from category theory, which are unavoidable. \n",
    "\n",
    "A lot of these notes are from Sweedler - Hopf Algebras. \n",
    "\n",
    "### **What is Coalgebra?**\n",
    "\n",
    "Coalgebra is, in a certain sense, the opposite of algebra. At a general level, in mathematics, algebras are vector spaces with an associative multiplication, and an element $1$ that acts like a unit. The canonical example would be the set of all matrices (over some field). In computer science, algebras are even more general structures that have some kind of composition rule from a composed set to a base set, satisfying properties similar to assiciativity and unity - an example might be string concatenation. (This definition already starts using monadic functors, and I'm trying to avoid too much category theory, so the vague definition stated will have to do.)\n",
    "\n",
    "Here is the formal definition for mathematicians:\n",
    "\n",
    "**Definition:** A coalgebra $C$ is a vector space over a field $k$ with operations $\\Delta$ (called comultiplication) and $\\epsilon$ (called the counit) such that:\n",
    "\n",
    "1. $$\\Delta : C \\rightarrow C \\otimes C$$ satisfies this diagram (coassociativity).\n",
    "2. $$ \\epsilon : C \\rightarrow k$$ satisfies this diagram (counit rule). \n",
    "\n",
    "For mathematicians, there are certain structures that they are bound to have come across all the time which are coalgebraic. Here are some examples:\n",
    "\n",
    "1. Homomorphisms/ group representations/ structure preserving maps. In these cases $\\Delta g = g \\otimes g$, $\\epsilon (g) = 1$. In cases like this we say that $g$ is a *group-like* element.\n",
    "2. Derivations - where $\\Delta d = 1 \\otimes d + d \\otimes 1$. Here, $1$ is a group-like element. \n",
    "3. Addition formulae: we can define $s$ and $c$, with properties such that $\\Delta s = s \\otimes c + c \\otimes s$ and $\\Delta c = c \\otimes c - s \\otimes s$. $\\epsilon (s) = 0, \\epsilon (c) = 1$.\n",
    "4. Graphs - *find the graph example when you have internet!*\n",
    "5. Quantum groups, including the *something something equation*.\n",
    "6. Card shuffling and permutations - if you can find the paper!\n",
    "7. A Marj example - Lie Algebras? \n",
    "8. Group representations!\n",
    "\n",
    "For computer scientists, a coalgebra is more general (and sadly, category heavy) object, and is usually called a $F$-coalgebra, where $F$ is a functor. The definition is this:\n",
    "\n",
    "1. A coalgebra is a natural transformation $c : C \\rightarrow FC$ satisfying...\n",
    "\n",
    "The mathematician's coalgebra is a special case of the c.s. coalgebra, where $F$ is the tensor product, $\\otimes : C \\rightarrow C \\otimes C$, over a vector space $k$. \n",
    "Here are a few examples that computer scientists care about:\n",
    "\n",
    "1. Streams\n",
    "2. Pushdown automata (PDA), finite state machines (FSMs), and context free grammars (CFGs). \n",
    "3. Structural Operator Semantics (?) and possibly even Linear Operator Semantics as the obvious lifting of this over $\\mathbb{R}$. "
   ]
  },
  {
   "cell_type": "markdown",
   "metadata": {},
   "source": [
    "###  **Relation to algebra**\n",
    "\n",
    "The first thing to notice is that coalgebra is just algebra with all the arrows reversed. Algebras cover all sorts of familiar objects, e.g. polynomials, matrices, the complex and real numbers, quarternions, function spaces... all are algebras. In computer science, ...... are examples of algebras. \n",
    "\n",
    "However, there are differences. \n",
    "1. Dualising algebras doesn't work (except in finite dimensions), but dualising coalgebras does work. \n",
    "2. Any element of a coalgebra lives in a finite dimensional subcoalgebra. \n",
    "\n",
    "This second statement is important enough to be called **the fundamental theorem of coalgebra**, and we will formalise it later. (To see how great this is, compare it to the case of the polynomial algebra, where $X \\in \\mathbb{C}[X]$ generates $X, X^2, X^3, ...$ so cannot ever be contained in a finite dimensional subalgebra.)"
   ]
  },
  {
   "cell_type": "markdown",
   "metadata": {},
   "source": [
    "### **Duals**\n",
    "\n",
    "In this section we are going to define a useful operator, called $^\\circ: Alg \\rightarrow Coalg$. I.e., this operation takes an algebra and generates a coalgebra. The operator is the *cofinite dual*.\n",
    "\n",
    "**Definion:** The cofinite dual of an algebra $A$ is a coalgebra $A^\\circ$, defined as:...\n",
    "\n",
    "Some examples: ..."
   ]
  },
  {
   "cell_type": "markdown",
   "metadata": {},
   "source": [
    "### **Coalgebra as an extension of homomorphims, and measuring**\n",
    "\n"
   ]
  },
  {
   "cell_type": "code",
   "execution_count": null,
   "metadata": {},
   "outputs": [],
   "source": []
  }
 ],
 "metadata": {
  "kernelspec": {
   "display_name": "transit_time",
   "language": "python",
   "name": "transit_time"
  },
  "language_info": {
   "codemirror_mode": {
    "name": "ipython",
    "version": 3
   },
   "file_extension": ".py",
   "mimetype": "text/x-python",
   "name": "python",
   "nbconvert_exporter": "python",
   "pygments_lexer": "ipython3",
   "version": "3.7.7"
  }
 },
 "nbformat": 4,
 "nbformat_minor": 2
}
