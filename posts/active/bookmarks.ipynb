{
 "cells": [
  {
   "cell_type": "markdown",
   "metadata": {},
   "source": [
    "# Bookmarks\n",
    "\n",
    "This is a place for links to other resources that I find interesting, or things I want to read, or whatever. \n",
    "I might try making it a bit prettier later but for now it's just a list. \n",
    "\n",
    "## Systems Biology\n",
    "\n",
    "- [MIT OCW Course](https://ocw.mit.edu/courses/physics/8-591j-systems-biology-fall-2014/) This MIT course is very good and I like the lecturer (although not as much as Eric Lander who is brilliant). \n",
    "\n",
    "- [Lambert W function in Michaelis Mentens kinetics](https://www.aimspress.com/fileOther/PDF/MBE/1551-0018_2009_1_173.pdf) Michaelis-Mentens is very important, and has a closed form solution in terms on the Lambert W function. \n",
    "\n",
    "## Compuational Biology\n",
    "\n",
    "- [PStrain](https://academic.oup.com/bioinformatics/advance-article/doi/10.1093/bioinformatics/btaa1056/6042705?searchresult=1) I did a short talk on this for an interview. It is interesting, and worth making a few brief notes on.\n",
    "\n",
    "- [Another great MIT course](https://www.youtube.com/playlist?list=PLypiXJdtIca6U5uQOCHjP9Op3gpa177fK) The lecturer is amazing and makes you take a break to stretch halfway through each lecture which is a good idea.\n",
    "\n",
    "## Coalgebra\n",
    "\n",
    "- I'll put the paper (of which I'm a coauthor) on here once it's fully polished.\n",
    "\n",
    "## Category Theory\n",
    "\n",
    "- [The Kleisli Category](https://en.wikipedia.org/wiki/Kleisli_category) A few computer science people seem to care about monads, especially in functional programming. However, they don't write them in the same way as mathmaticians do, instead they have these operations called just and bind. The theory which links this formulation back to the 'standard' mathematical definition of a monad is the Kleisli category. \n",
    "\n",
    "- [Mathema](https://www.math3ma.com/) This is a blog which sometimes has some interesting maths on it, she is a big fan of applied category theory. \n",
    "\n",
    "- [The Catsters](https://www.youtube.com/user/TheCatsters) A group of category theorists (I think from York?) who make short youtube videos on category theory. TBH these are quite pure and if you like category theory this much you should probably just read a book, but still, they're good. "
   ]
  }
 ],
 "metadata": {
  "kernelspec": {
   "display_name": "blog",
   "language": "python",
   "name": "blog"
  },
  "language_info": {
   "codemirror_mode": {
    "name": "ipython",
    "version": 3
   },
   "file_extension": ".py",
   "mimetype": "text/x-python",
   "name": "python",
   "nbconvert_exporter": "python",
   "pygments_lexer": "ipython3",
   "version": "3.7.7"
  }
 },
 "nbformat": 4,
 "nbformat_minor": 2
}
