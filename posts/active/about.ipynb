{
 "cells": [
  {
   "cell_type": "markdown",
   "metadata": {},
   "source": [
    "<h1>About Me</h1>\n",
    "<p>\n",
    "My name is Will Boulton and I am a software engineer and mathematician. \n",
    "I finished my BA and MMath at the University of Cambridge in 2016. Since then \n",
    "I have been working as a software engineer, as well as doing mathematical modelling and data science type\n",
    "things. \n",
    "<br/>\n",
    "<br/>\n",
    "This website is a huge mish-mash of topics I am interested in as well as a place for my to collect together various \n",
    "articles I am reading, or want to read. Occasionally there might be some useful information for my maths students. \n",
    "I will put stuff on this website that I'm excited to find out more about, and mainly hope that this website can be used\n",
    "to help other students in a similar situation. \n",
    "<br/>numpy\n",
    "matplotlib\n",
    "seaborn\n",
    "\n",
    "<br/>\n",
    "The sort of areas I am interested in include:\n",
    "<ul>\n",
    "    <li>molecular biology, genomics, biochemistry, and molecular dynamics</li>\n",
    "    <li>applied mathematics, particularly in life science</li>\n",
    "    <li>bioinformatics and computational biology</li>\n",
    "    <li>machine learning and data science</li>\n",
    "    <li>applied category theory, and category theory in computer science</li>\n",
    "    <li>coalgebra</li>\n",
    "    <li>recreational mathematics</li>\n",
    "    <li>programming, mainly in Python</li>\n",
    "    <li>computer science</li>\n",
    "</ul>\n",
    "Each of these are massive areas!\n",
    "<br/>\n",
    "<br/>\n",
    "As a software engineer I mainly program in Python and Java, though I have occasionally played around with \n",
    "Javascript, C and C++. I have some interest in Haskell, due to its connection to category theory, which I've remained interested in\n",
    "since university. \n",
    "<br/>\n",
    "<br/>\n",
    "You can contact me at <a href=mailto:wboulton12@gmail.com>wboulton12@gmail.com</a> if you like, \n",
    "and if you spot any mistakes in this website and want to tell me then I will be very grateful. \n",
    "Please email me if you want a copy of my CV for some reason. \n",
    "My github is pretty empty, but you can find it <a href=https://github.com/willboulton>here</a>. \n",
    "I rarely use Twitter, Facebook, or Instagram \n",
    "(because they are stupid) so don't bother trying to contact me on any of those. \n",
    "</p>"
   ]
  }
 ],
 "metadata": {
  "kernelspec": {
   "display_name": "blog",
   "language": "python",
   "name": "blog"
  },
  "language_info": {
   "codemirror_mode": {
    "name": "ipython",
    "version": 3
   },
   "file_extension": ".py",
   "mimetype": "text/x-python",
   "name": "python",
   "nbconvert_exporter": "python",
   "pygments_lexer": "ipython3",
   "version": "3.7.7"
  }
 },
 "nbformat": 4,
 "nbformat_minor": 2
}
