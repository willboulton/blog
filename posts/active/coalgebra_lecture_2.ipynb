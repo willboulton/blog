{
 "cells": [
  {
   "cell_type": "markdown",
   "metadata": {},
   "source": [
    "## Coalgebra Lecture 2\n",
    "\n",
    "A lot of credit goes to Marj Batchelor, Martin Hyland, etc...\n",
    "\n",
    "### **Universal Measuring Coalgebras**\n",
    "\n",
    "Extending the notion from last lecture of measuring coalgebras, we are going to look for *Universal Measuring Coalgebras*. These are coalgebras with the property that...\n",
    "\n",
    "### **The $\\square$ Construction**\n",
    "\n",
    "### **A fake proof for constructing the UMC**"
   ]
  },
  {
   "cell_type": "markdown",
   "metadata": {},
   "source": [
    "### **Some Computations**\n",
    "\n"
   ]
  }
 ],
 "metadata": {
  "kernelspec": {
   "display_name": "transit_time",
   "language": "python",
   "name": "transit_time"
  },
  "language_info": {
   "codemirror_mode": {
    "name": "ipython",
    "version": 3
   },
   "file_extension": ".py",
   "mimetype": "text/x-python",
   "name": "python",
   "nbconvert_exporter": "python",
   "pygments_lexer": "ipython3",
   "version": "3.7.7"
  }
 },
 "nbformat": 4,
 "nbformat_minor": 2
}
